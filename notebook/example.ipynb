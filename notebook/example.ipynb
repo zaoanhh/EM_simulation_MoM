{
 "cells": [
  {
   "cell_type": "code",
   "execution_count": 7,
   "metadata": {},
   "outputs": [],
   "source": [
    "using DrWatson\n",
    "@quickactivate \"EIT\"\n",
    "using Revise, ProgressMeter, Distributions, Random\n",
    "includet(projectdir(\"config\", \"example_config.jl\"))\n",
    "includet(srcdir(\"funcs.jl\"))\n",
    "import ..Simu\n",
    "using ..MoMForward: ConstantParameter\n",
    "import ..MoMForward as mf\n"
   ]
  },
  {
   "cell_type": "code",
   "execution_count": 3,
   "metadata": {},
   "outputs": [
    {
     "data": {
      "text/plain": [
       "Dict{String, Real} with 12 entries:\n",
       "  \"dis_tx_rx\"     => 8.0\n",
       "  \"doi_size_x\"    => 5.0\n",
       "  \"tag_size\"      => 0.2\n",
       "  \"grids_x\"       => 500\n",
       "  \"dis_target_rx\" => 3.0\n",
       "  \"rx_num\"        => 3\n",
       "  \"N\"             => 100\n",
       "  \"grids_y\"       => 1000\n",
       "  \"tx_num\"        => 1\n",
       "  \"doi_size_y\"    => 10.0\n",
       "  \"freq\"          => 5.0e9\n",
       "  \"dis_antenna\"   => 0.03"
      ]
     },
     "metadata": {},
     "output_type": "display_data"
    }
   ],
   "source": [
    "config"
   ]
  },
  {
   "cell_type": "code",
   "execution_count": 4,
   "metadata": {},
   "outputs": [
    {
     "data": {
      "text/plain": [
       "get_scatterer (generic function with 1 method)"
      ]
     },
     "metadata": {},
     "output_type": "display_data"
    }
   ],
   "source": [
    "function get_scatterer(; grid_xs, grid_ys, center, r, ϵ)\n",
    "    scatterer = ones(Complex, length(grid_ys), length(grid_xs))\n",
    "    for i in eachindex(grid_xs), j in eachindex(grid_ys)\n",
    "        if (grid_xs[i] - center[1])^2 + (grid_ys[j] - center[2])^2 < r^2\n",
    "            scatterer[j, i] = ϵ\n",
    "        end\n",
    "    end\n",
    "    return scatterer\n",
    "end"
   ]
  },
  {
   "cell_type": "code",
   "execution_count": 8,
   "metadata": {},
   "outputs": [
    {
     "data": {
      "text/plain": [
       "get_E_in_rx_dis_tag_rx (generic function with 1 method)"
      ]
     },
     "metadata": {},
     "output_type": "display_data"
    }
   ],
   "source": [
    "function get_E_in_rx_dis_tag_rx(config_now)\n",
    "    @unpack freq, grids_x, grids_y, doi_size_x, doi_size_y, tx_num, rx_num, dis_antenna, tag_size, dis_tx_rx, dis_target_rx,N = config_now\n",
    "\n",
    "    txs_pos_x = repeat([doi_size_x / 2 - dis_tx_rx], tx_num)'\n",
    "    txs_pos_y = ((collect(1:tx_num) .- (tx_num + 1) / 2) .* dis_antenna)'\n",
    "    txs_pos = [txs_pos_x; txs_pos_y] # 2 x tx_num\n",
    "    rxs_pos_x = repeat([doi_size_x / 2], rx_num)'\n",
    "    rxs_pos_y = ((collect(1:rx_num) .- (rx_num + 1) / 2) .* dis_antenna)'\n",
    "    rxs_pos = [rxs_pos_x; rxs_pos_y] # 2 x rx_num\n",
    "    parameters = mf.ConstantParameter(\n",
    "        freq = freq, doi_size_x = doi_size_x, doi_size_y = doi_size_y, grid_number_x = grids_x,\n",
    "        grid_number_y = grids_y, txs_pos = txs_pos, rxs_pos = rxs_pos\n",
    "    )\n",
    "    shared_variables, _ = produce_or_load(\n",
    "        Simu.sim_share_variables, parameters, datadir(\"example\",\"shared_variables\"); verbose = false)\n",
    "    ϵ = 10.0 - 2.0im\n",
    "    tag_radio = tag_size\n",
    "\n",
    "    AoA = rand(Uniform(0, π), N) .+ pi / 2\n",
    "    tag_pos = [cos.(AoA) .* dis_target_rx sin.(AoA) .* dis_target_rx]\n",
    "    Ei_all = Vector{Array{ComplexF64}}(undef, N)\n",
    "    Es_all = Vector{Array{ComplexF64}}(undef, N)\n",
    "    Ray_all = Vector{Array{ComplexF64}}(undef, N)\n",
    "    Threads.@threads for i in 1:N\n",
    "        tag_pos_now = tag_pos[i, :]\n",
    "        temp_scatterer = get_scatterer(\n",
    "            grid_xs = parameters.grid_xs, grid_ys = parameters.grid_ys,\n",
    "            center = tag_pos_now, r = tag_radio, ϵ = ϵ)\n",
    "        Es_all[i] = Simu.get_Es(parameters, shared_variables, temp_scatterer)#The size is [rx_num, tx_num]\n",
    "        Ei_all[i] = shared_variables[\"Ei_in_rxs\"]#The size is [rx_num, tx_num]\n",
    "    end\n",
    "    return @strdict Ei_all Es_all  AoA\n",
    "end"
   ]
  },
  {
   "cell_type": "code",
   "execution_count": 9,
   "metadata": {},
   "outputs": [
    {
     "data": {
      "text/plain": [
       "(Dict{String, Vector}(\"AoA\" => [3.7285318695657406, 3.5770749768505623, 4.016432043161725, 2.7202767247630937, 3.381836143550185, 2.288387476252896, 4.507168670775053, 4.129417310687078, 2.2837081917018858, 3.5679408163748536  …  3.305487062538301, 3.0856639819694758, 4.449618328457731, 2.8901263468913854, 4.246481192896978, 4.639222412435204, 2.5482504201740603, 3.237549944302287, 3.732386031263241, 3.3025953536335715], \"Es_all\" => Array{ComplexF64}[[0.03639634477069132 - 0.01605282586356414im; 0.03280836444389934 + 0.023517121661127238im; -0.00420926072677421 + 0.04077369646970601im;;], [0.0 + 0.0im; 0.0 + 0.0im; 0.0 + 0.0im;;], [-0.0004805516999164053 - 0.023000258246188485im; 0.02277452406003188 - 0.0018698796380012261im; 0.002911165714802995 + 0.022524536491315323im;;], [0.0 + 0.0im; 0.0 + 0.0im; 0.0 + 0.0im;;], [0.0 + 0.0im; 0.0 + 0.0im; 0.0 + 0.0im;;], [-0.012737789357368613 - 0.027241735682425036im; -0.028640288472078963 + 0.010522710241853458im; 0.007718368160863669 + 0.029983701488496564im;;], [0.0244610950465175 + 0.012994562410805509im; -0.02513742922985964 + 0.011555211924869227im; 0.006344834087785943 - 0.026906102985752512im;;], [0.021952551771863144 - 0.020867777800038987im; 0.01851561636842846 + 0.023808528597635166im; -0.02562648445929306 + 0.01561810074044772im;;], [-0.017816839376721755 + 0.020319378209723526im; 0.01903056585779079 + 0.019597973468174025im; 0.02156577816141017 - 0.017256422029255113im;;], [0.0 + 0.0im; 0.0 + 0.0im; 0.0 + 0.0im;;]  …  [0.0 + 0.0im; 0.0 + 0.0im; 0.0 + 0.0im;;], [0.0 + 0.0im; 0.0 + 0.0im; 0.0 + 0.0im;;], [-0.02155768698233674 + 0.010958907888598293im; 0.002478179149963086 - 0.024299301989742277im; 0.01910186284575152 + 0.0156093579695893im;;], [0.0 + 0.0im; 0.0 + 0.0im; 0.0 + 0.0im;;], [-0.03012222332293247 - 0.0029876480683017764im; 0.011347712139319847 - 0.027978448608120557im; 0.023331862640211497 + 0.01905900926203421im;;], [0.015039699091410414 + 0.01666960626751136im; -0.022201276529780246 - 0.002026251603297235im; 0.017705728468456774 - 0.013321441145894924im;;], [0.043348592845431716 - 0.029259715987029245im; -0.003962812736764305 - 0.05193656440933507im; -0.046532072010408404 - 0.022925463044273335im;;], [0.0 + 0.0im; 0.0 + 0.0im; 0.0 + 0.0im;;], [-0.030625682966775238 - 0.027268361175422567im; 0.0073891435478615 - 0.03973550491363117im; 0.0374974904779766 - 0.013398476244684234im;;], [0.0 + 0.0im; 0.0 + 0.0im; 0.0 + 0.0im;;]], \"Ei_all\" => Array{ComplexF64}[[-0.1174561817543554 - 0.04276477106468818im; -0.11720285367839534 - 0.04345677265560171im; -0.1174561817543554 - 0.04276477106468818im;;], [-0.1174561817543554 - 0.04276477106468818im; -0.11720285367839534 - 0.04345677265560171im; -0.1174561817543554 - 0.04276477106468818im;;], [-0.1174561817543554 - 0.04276477106468818im; -0.11720285367839534 - 0.04345677265560171im; -0.1174561817543554 - 0.04276477106468818im;;], [-0.1174561817543554 - 0.04276477106468818im; -0.11720285367839534 - 0.04345677265560171im; -0.1174561817543554 - 0.04276477106468818im;;], [-0.1174561817543554 - 0.04276477106468818im; -0.11720285367839534 - 0.04345677265560171im; -0.1174561817543554 - 0.04276477106468818im;;], [-0.1174561817543554 - 0.04276477106468818im; -0.11720285367839534 - 0.04345677265560171im; -0.1174561817543554 - 0.04276477106468818im;;], [-0.1174561817543554 - 0.04276477106468818im; -0.11720285367839534 - 0.04345677265560171im; -0.1174561817543554 - 0.04276477106468818im;;], [-0.1174561817543554 - 0.04276477106468818im; -0.11720285367839534 - 0.04345677265560171im; -0.1174561817543554 - 0.04276477106468818im;;], [-0.1174561817543554 - 0.04276477106468818im; -0.11720285367839534 - 0.04345677265560171im; -0.1174561817543554 - 0.04276477106468818im;;], [-0.1174561817543554 - 0.04276477106468818im; -0.11720285367839534 - 0.04345677265560171im; -0.1174561817543554 - 0.04276477106468818im;;]  …  [-0.1174561817543554 - 0.04276477106468818im; -0.11720285367839534 - 0.04345677265560171im; -0.1174561817543554 - 0.04276477106468818im;;], [-0.1174561817543554 - 0.04276477106468818im; -0.11720285367839534 - 0.04345677265560171im; -0.1174561817543554 - 0.04276477106468818im;;], [-0.1174561817543554 - 0.04276477106468818im; -0.11720285367839534 - 0.04345677265560171im; -0.1174561817543554 - 0.04276477106468818im;;], [-0.1174561817543554 - 0.04276477106468818im; -0.11720285367839534 - 0.04345677265560171im; -0.1174561817543554 - 0.04276477106468818im;;], [-0.1174561817543554 - 0.04276477106468818im; -0.11720285367839534 - 0.04345677265560171im; -0.1174561817543554 - 0.04276477106468818im;;], [-0.1174561817543554 - 0.04276477106468818im; -0.11720285367839534 - 0.04345677265560171im; -0.1174561817543554 - 0.04276477106468818im;;], [-0.1174561817543554 - 0.04276477106468818im; -0.11720285367839534 - 0.04345677265560171im; -0.1174561817543554 - 0.04276477106468818im;;], [-0.1174561817543554 - 0.04276477106468818im; -0.11720285367839534 - 0.04345677265560171im; -0.1174561817543554 - 0.04276477106468818im;;], [-0.1174561817543554 - 0.04276477106468818im; -0.11720285367839534 - 0.04345677265560171im; -0.1174561817543554 - 0.04276477106468818im;;], [-0.1174561817543554 - 0.04276477106468818im; -0.11720285367839534 - 0.04345677265560171im; -0.1174561817543554 - 0.04276477106468818im;;]]), \"/Users/shangfei/NAS/code/mygit/EM_simulation_MoM/data/example/N=100_dis_antenna=0.03_dis_target_rx=3.0_dis_tx_rx=8.0_doi_size_x=5.0_doi_size_y=10.0_freq=5e9_grids_x=500_grids_y=1000_rx_num=3_tag_size=0.2_tx_num=1.jld2\")"
      ]
     },
     "metadata": {},
     "output_type": "display_data"
    }
   ],
   "source": [
    "data, _ = produce_or_load(\n",
    "            x -> get_E_in_rx_dis_tag_rx(x), config, datadir(\"example\"); verbose = false\n",
    "        )"
   ]
  }
 ],
 "metadata": {
  "kernelspec": {
   "display_name": "Julia 1.10.3",
   "language": "julia",
   "name": "julia-1.10"
  },
  "language_info": {
   "file_extension": ".jl",
   "mimetype": "application/julia",
   "name": "julia",
   "version": "1.10.3"
  }
 },
 "nbformat": 4,
 "nbformat_minor": 2
}
